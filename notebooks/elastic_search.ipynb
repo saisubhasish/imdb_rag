{
 "cells": [
  {
   "cell_type": "markdown",
   "metadata": {},
   "source": [
    "## Setup"
   ]
  },
  {
   "cell_type": "code",
   "execution_count": 1,
   "metadata": {},
   "outputs": [
    {
     "name": "stdout",
     "output_type": "stream",
     "text": [
      "{'acknowledged': True}\n"
     ]
    }
   ],
   "source": [
    "import os\n",
    "from dotenv import load_dotenv\n",
    "from elasticsearch import Elasticsearch\n",
    "\n",
    "load_dotenv()\n",
    "\n",
    "client = Elasticsearch(\n",
    "    \"https://my-elasticsearch-project-eda2fa.es.us-east-1.aws.elastic.cloud:443\",\n",
    "    api_key=os.getenv(\"ELASTIC_SEARCH_IMDB\")\n",
    ")\n",
    "index_name = \"imdb-vdb\"\n",
    "\n",
    "mappings = {\n",
    "    \"properties\": {\n",
    "        \"vector\": {\n",
    "            \"type\": \"dense_vector\",\n",
    "            \"dims\": 3\n",
    "        },\n",
    "        \"text\": {\n",
    "            \"type\": \"text\"\n",
    "        }\n",
    "    }\n",
    "}\n",
    "mapping_response = client.indices.put_mapping(index=index_name, body=mappings)\n",
    "\n",
    "print(mapping_response)"
   ]
  },
  {
   "cell_type": "markdown",
   "metadata": {},
   "source": [
    "# Data dump"
   ]
  },
  {
   "cell_type": "code",
   "execution_count": 2,
   "metadata": {},
   "outputs": [
    {
     "name": "stderr",
     "output_type": "stream",
     "text": [
      "C:\\Users\\saisu\\AppData\\Local\\Temp\\ipykernel_33296\\1599419238.py:24: FutureWarning: Setting an item of incompatible dtype is deprecated and will raise an error in a future version of pandas. Value '' has dtype incompatible with float64, please explicitly cast to a compatible dtype first.\n",
      "  df.fillna(\"\", inplace=True)\n"
     ]
    },
    {
     "name": "stdout",
     "output_type": "stream",
     "text": [
      "Bulk Insertion Completed: (1000, [])\n"
     ]
    }
   ],
   "source": [
    "import os\n",
    "import pandas as pd\n",
    "from dotenv import load_dotenv\n",
    "from elasticsearch import Elasticsearch, helpers\n",
    "\n",
    "load_dotenv()\n",
    "\n",
    "# Connect to Elasticsearch\n",
    "client = Elasticsearch(\n",
    "    \"https://my-elasticsearch-project-eda2fa.es.us-east-1.aws.elastic.cloud:443\",\n",
    "    api_key=os.getenv(\"ELASTIC_SEARCH_IMDB\")\n",
    ")\n",
    "\n",
    "index_name = \"imdb-vdb\"\n",
    "\n",
    "# Ensure the index exists\n",
    "if not client.indices.exists(index=index_name):\n",
    "    client.indices.create(index=index_name)\n",
    "\n",
    "# Load Data\n",
    "df = pd.read_csv(\"C:/Users/saisu/Documents/Learning/RAG_project_imdb/data/imdb_top_1000.csv\")\n",
    "\n",
    "# Clean NaN values\n",
    "df.fillna(\"\", inplace=True)\n",
    "\n",
    "# Convert DataFrame rows to Elasticsearch-compatible dictionaries\n",
    "documents = [\n",
    "    {\n",
    "        \"_index\": index_name,\n",
    "        \"_id\": row[\"Series_Title\"],  # Use title as metadata (ID)\n",
    "        \"_source\": {\n",
    "            \"released_year\": row[\"Released_Year\"],  # Updated field names\n",
    "            \"certificate\": row[\"Certificate\"],\n",
    "            \"runtime\": row[\"Runtime\"],\n",
    "            \"genre\": row[\"Genre\"],\n",
    "            \"imdb_rating\": row[\"IMDB_Rating\"],\n",
    "            \"overview\": row[\"Overview\"][:1000],  # Truncate long text\n",
    "            \"meta_score\": row[\"Meta_score\"],\n",
    "            \"director\": row[\"Director\"],\n",
    "            \"star1\": row[\"Star1\"],\n",
    "            \"star2\": row[\"Star2\"],\n",
    "            \"star3\": row[\"Star3\"],\n",
    "            \"star4\": row[\"Star4\"],\n",
    "            \"no_of_votes\": row[\"No_of_Votes\"],\n",
    "            \"gross\": row[\"Gross\"]\n",
    "        }\n",
    "    }\n",
    "    for _, row in df.iterrows()\n",
    "]\n",
    "\n",
    "# Bulk Insert with Error Handling\n",
    "try:\n",
    "    bulk_response = helpers.bulk(client, documents)\n",
    "    print(\"Bulk Insertion Completed:\", bulk_response)\n",
    "except helpers.BulkIndexError as e:\n",
    "    print(\"BulkIndexError:\", e.errors)  # Print specific errors for debugging\n"
   ]
  },
  {
   "cell_type": "markdown",
   "metadata": {},
   "source": [
    "## Data Access"
   ]
  },
  {
   "cell_type": "code",
   "execution_count": 4,
   "metadata": {},
   "outputs": [
    {
     "name": "stderr",
     "output_type": "stream",
     "text": [
      "C:\\Users\\saisu\\AppData\\Local\\Temp\\ipykernel_32772\\1580302228.py:11: DeprecationWarning: Received 'size' via a specific parameter in the presence of a 'body' parameter, which is deprecated and will be removed in a future version. Instead, use only 'body' or only specific parameters.\n",
      "  response = client.search(index=index_name, body={\"query\": {\"match_all\": {}}}, size=10)\n"
     ]
    },
    {
     "name": "stdout",
     "output_type": "stream",
     "text": [
      "{'title': 'The Dark Knight', 'released_year': '2008', 'certificate': 'UA', 'runtime': '152 min', 'genre': 'Action, Crime, Drama', 'imdb_rating': 9.0, 'overview': 'When the menace known as the Joker wreaks havoc and chaos on the people of Gotham, Batman must accept one of the greatest psychological and physical tests of his ability to fight injustice.', 'meta_score': 84.0, 'director': 'Christopher Nolan', 'star1': 'Christian Bale', 'star2': 'Heath Ledger', 'star3': 'Aaron Eckhart', 'star4': 'Michael Caine', 'no_of_votes': 2303232, 'gross': '534,858,444'}\n",
      "{'title': \"Schindler's List\", 'released_year': '1993', 'certificate': 'A', 'runtime': '195 min', 'genre': 'Biography, Drama, History', 'imdb_rating': 8.9, 'overview': 'In German-occupied Poland during World War II, industrialist Oskar Schindler gradually becomes concerned for his Jewish workforce after witnessing their persecution by the Nazis.', 'meta_score': 94.0, 'director': 'Steven Spielberg', 'star1': 'Liam Neeson', 'star2': 'Ralph Fiennes', 'star3': 'Ben Kingsley', 'star4': 'Caroline Goodall', 'no_of_votes': 1213505, 'gross': '96,898,818'}\n",
      "{'title': 'Star Wars: Episode V - The Empire Strikes Back', 'released_year': '1980', 'certificate': 'UA', 'runtime': '124 min', 'genre': 'Action, Adventure, Fantasy', 'imdb_rating': 8.7, 'overview': 'After the Rebels are brutally overpowered by the Empire on the ice planet Hoth, Luke Skywalker begins Jedi training with Yoda, while his friends are pursued by Darth Vader and a bounty hunter named Boba Fett all over the galaxy.', 'meta_score': 82.0, 'director': 'Irvin Kershner', 'star1': 'Mark Hamill', 'star2': 'Harrison Ford', 'star3': 'Carrie Fisher', 'star4': 'Billy Dee Williams', 'no_of_votes': 1159315, 'gross': '290,475,067'}\n",
      "{'title': 'Hamilton', 'released_year': '2020', 'certificate': 'PG-13', 'runtime': '160 min', 'genre': 'Biography, Drama, History', 'imdb_rating': 8.6, 'overview': \"The real life of one of America's foremost founding fathers and first Secretary of the Treasury, Alexander Hamilton. Captured live on Broadway from the Richard Rodgers Theater with the original Broadway cast.\", 'meta_score': 90.0, 'director': 'Thomas Kail', 'star1': 'Lin-Manuel Miranda', 'star2': 'Phillipa Soo', 'star3': 'Leslie Odom Jr.', 'star4': 'Renée Elise Goldsberry', 'no_of_votes': 55291, 'gross': ''}\n",
      "{'title': 'The Silence of the Lambs', 'released_year': '1991', 'certificate': 'A', 'runtime': '118 min', 'genre': 'Crime, Drama, Thriller', 'imdb_rating': 8.6, 'overview': 'A young F.B.I. cadet must receive the help of an incarcerated and manipulative cannibal killer to help catch another serial killer, a madman who skins his victims.', 'meta_score': 85.0, 'director': 'Jonathan Demme', 'star1': 'Jodie Foster', 'star2': 'Anthony Hopkins', 'star3': 'Lawrence A. Bonney', 'star4': 'Kasi Lemmons', 'no_of_votes': 1270197, 'gross': '130,742,922'}\n",
      "{'title': 'Seppuku', 'released_year': '1962', 'certificate': '', 'runtime': '133 min', 'genre': 'Action, Drama, Mystery', 'imdb_rating': 8.6, 'overview': \"When a ronin requesting seppuku at a feudal lord's palace is told of the brutal suicide of another ronin who previously visited, he reveals how their pasts are intertwined - and in doing so challenges the clan's integrity.\", 'meta_score': 85.0, 'director': 'Masaki Kobayashi', 'star1': 'Tatsuya Nakadai', 'star2': 'Akira Ishihama', 'star3': 'Shima Iwashita', 'star4': 'Tetsurô Tanba', 'no_of_votes': 42004, 'gross': ''}\n",
      "{'title': 'American History X', 'released_year': '1998', 'certificate': 'R', 'runtime': '119 min', 'genre': 'Drama', 'imdb_rating': 8.5, 'overview': 'A former neo-nazi skinhead tries to prevent his younger brother from going down the same wrong path that he did.', 'meta_score': 62.0, 'director': 'Tony Kaye', 'star1': 'Edward Norton', 'star2': 'Edward Furlong', 'star3': \"Beverly D'Angelo\", 'star4': 'Jennifer Lien', 'no_of_votes': 1034705, 'gross': '6,719,864'}\n",
      "{'title': 'Léon', 'released_year': '1994', 'certificate': 'A', 'runtime': '110 min', 'genre': 'Action, Crime, Drama', 'imdb_rating': 8.5, 'overview': \"Mathilda, a 12-year-old girl, is reluctantly taken in by Léon, a professional assassin, after her family is murdered. An unusual relationship forms as she becomes his protégée and learns the assassin's trade.\", 'meta_score': 64.0, 'director': 'Luc Besson', 'star1': 'Jean Reno', 'star2': 'Gary Oldman', 'star3': 'Natalie Portman', 'star4': 'Danny Aiello', 'no_of_votes': 1035236, 'gross': '19,501,238'}\n",
      "{'title': 'The Lion King', 'released_year': '1994', 'certificate': 'U', 'runtime': '88 min', 'genre': 'Animation, Adventure, Drama', 'imdb_rating': 8.5, 'overview': 'Lion prince Simba and his father are targeted by his bitter uncle, who wants to ascend the throne himself.', 'meta_score': 88.0, 'director': 'Roger Allers', 'star1': 'Rob Minkoff', 'star2': 'Matthew Broderick', 'star3': 'Jeremy Irons', 'star4': 'James Earl Jones', 'no_of_votes': 942045, 'gross': '422,783,777'}\n",
      "{'title': 'Back to the Future', 'released_year': '1985', 'certificate': 'U', 'runtime': '116 min', 'genre': 'Adventure, Comedy, Sci-Fi', 'imdb_rating': 8.5, 'overview': 'Marty McFly, a 17-year-old high school student, is accidentally sent thirty years into the past in a time-traveling DeLorean invented by his close friend, the eccentric scientist Doc Brown.', 'meta_score': 87.0, 'director': 'Robert Zemeckis', 'star1': 'Michael J. Fox', 'star2': 'Christopher Lloyd', 'star3': 'Lea Thompson', 'star4': 'Crispin Glover', 'no_of_votes': 1058081, 'gross': '210,609,762'}\n"
     ]
    }
   ],
   "source": [
    "from elasticsearch import Elasticsearch\n",
    "\n",
    "client = Elasticsearch(\n",
    "    \"https://my-elasticsearch-project-eda2fa.es.us-east-1.aws.elastic.cloud:443\",\n",
    "    api_key=os.getenv(\"ELASTIC_SEARCH_IMDB\")\n",
    ")\n",
    "\n",
    "index_name = \"imdb-vdb\"\n",
    "\n",
    "# Fetch all documents\n",
    "response = client.search(index=index_name, body={\"query\": {\"match_all\": {}}}, size=10)\n",
    "\n",
    "for hit in response[\"hits\"][\"hits\"]:\n",
    "    print(hit[\"_source\"])\n"
   ]
  },
  {
   "cell_type": "code",
   "execution_count": 10,
   "metadata": {},
   "outputs": [
    {
     "name": "stdout",
     "output_type": "stream",
     "text": [
      "{'title': 'Inception', 'released_year': '2010', 'certificate': 'UA', 'runtime': '148 min', 'genre': 'Action, Adventure, Sci-Fi', 'imdb_rating': 8.8, 'overview': 'A thief who steals corporate secrets through the use of dream-sharing technology is given the inverse task of planting an idea into the mind of a C.E.O.', 'meta_score': 74.0, 'director': 'Christopher Nolan', 'star1': 'Leonardo DiCaprio', 'star2': 'Joseph Gordon-Levitt', 'star3': 'Elliot Page', 'star4': 'Ken Watanabe', 'no_of_votes': 2067042, 'gross': '292,576,195'}\n"
     ]
    }
   ],
   "source": [
    "query = \"Inception\"\n",
    "\n",
    "search_body = {\n",
    "    \"query\": {\n",
    "        \"match\": {\n",
    "            \"title\": query  # Full-text search on movie title\n",
    "        }\n",
    "    }\n",
    "}\n",
    "\n",
    "response = client.search(index=index_name, body=search_body)\n",
    "\n",
    "for hit in response[\"hits\"][\"hits\"]:\n",
    "    print(hit[\"_source\"])\n"
   ]
  },
  {
   "cell_type": "code",
   "execution_count": 6,
   "metadata": {},
   "outputs": [
    {
     "name": "stdout",
     "output_type": "stream",
     "text": [
      "{'title': 'Inception', 'released_year': '2010', 'certificate': 'UA', 'runtime': '148 min', 'genre': 'Action, Adventure, Sci-Fi', 'imdb_rating': 8.8, 'overview': 'A thief who steals corporate secrets through the use of dream-sharing technology is given the inverse task of planting an idea into the mind of a C.E.O.', 'meta_score': 74.0, 'director': 'Christopher Nolan', 'star1': 'Leonardo DiCaprio', 'star2': 'Joseph Gordon-Levitt', 'star3': 'Elliot Page', 'star4': 'Ken Watanabe', 'no_of_votes': 2067042, 'gross': '292,576,195'}\n"
     ]
    }
   ],
   "source": [
    "search_body = {\n",
    "    \"query\": {\n",
    "        \"bool\": {\n",
    "            \"must\": [\n",
    "                {\"match\": {\"released_year\": \"2010\"}},\n",
    "                {\"match\": {\"genre\": \"Sci-Fi\"}}\n",
    "            ]\n",
    "        }\n",
    "    }\n",
    "}\n",
    "\n",
    "response = client.search(index=index_name, body=search_body)\n",
    "\n",
    "for hit in response[\"hits\"][\"hits\"]:\n",
    "    print(hit[\"_source\"])\n"
   ]
  },
  {
   "cell_type": "code",
   "execution_count": 7,
   "metadata": {},
   "outputs": [
    {
     "name": "stdout",
     "output_type": "stream",
     "text": [
      "The Shawshank Redemption  - IMDb Rating: 9.3\n",
      "The Godfather  - IMDb Rating: 9.2\n",
      "The Dark Knight  - IMDb Rating: 9.0\n",
      "The Godfather: Part II  - IMDb Rating: 9.0\n",
      "12 Angry Men  - IMDb Rating: 9.0\n",
      "Schindler's List  - IMDb Rating: 8.9\n",
      "Pulp Fiction  - IMDb Rating: 8.9\n",
      "The Lord of the Rings: The Return of the King  - IMDb Rating: 8.9\n",
      "The Lord of the Rings: The Fellowship of the Ring  - IMDb Rating: 8.8\n",
      "Forrest Gump  - IMDb Rating: 8.8\n"
     ]
    }
   ],
   "source": [
    "search_body = {\n",
    "    \"query\": {\"match_all\": {}},\n",
    "    \"sort\": [{\"imdb_rating\": \"desc\"}],\n",
    "    \"size\": 10\n",
    "}\n",
    "\n",
    "response = client.search(index=index_name, body=search_body)\n",
    "\n",
    "for hit in response[\"hits\"][\"hits\"]:\n",
    "    print(hit[\"_source\"][\"title\"], \" - IMDb Rating:\", hit[\"_source\"][\"imdb_rating\"])\n"
   ]
  },
  {
   "cell_type": "code",
   "execution_count": 8,
   "metadata": {},
   "outputs": [
    {
     "name": "stdout",
     "output_type": "stream",
     "text": [
      "Interstellar\n"
     ]
    }
   ],
   "source": [
    "search_body = {\n",
    "    \"query\": {\n",
    "        \"fuzzy\": {\n",
    "            \"title\": {\n",
    "                \"value\": \"Interstelar\",\n",
    "                \"fuzziness\": \"AUTO\"\n",
    "            }\n",
    "        }\n",
    "    }\n",
    "}\n",
    "\n",
    "response = client.search(index=index_name, body=search_body)\n",
    "\n",
    "for hit in response[\"hits\"][\"hits\"]:\n",
    "    print(hit[\"_source\"][\"title\"])\n"
   ]
  },
  {
   "cell_type": "code",
   "execution_count": null,
   "metadata": {},
   "outputs": [],
   "source": []
  }
 ],
 "metadata": {
  "kernelspec": {
   "display_name": "Python 3",
   "language": "python",
   "name": "python3"
  },
  "language_info": {
   "codemirror_mode": {
    "name": "ipython",
    "version": 3
   },
   "file_extension": ".py",
   "mimetype": "text/x-python",
   "name": "python",
   "nbconvert_exporter": "python",
   "pygments_lexer": "ipython3",
   "version": "3.11.11"
  }
 },
 "nbformat": 4,
 "nbformat_minor": 2
}
