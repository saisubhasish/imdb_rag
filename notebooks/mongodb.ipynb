{
 "cells": [
  {
   "cell_type": "code",
   "execution_count": 1,
   "metadata": {},
   "outputs": [],
   "source": [
    "#  Insert\n",
    "import os\n",
    "from dotenv import load_dotenv\n",
    "from pymongo import MongoClient"
   ]
  },
  {
   "cell_type": "code",
   "execution_count": 2,
   "metadata": {},
   "outputs": [],
   "source": [
    "# Load environment variables\n",
    "load_dotenv()\n",
    "\n",
    "# MongoDB Connection\n",
    "MONGODB_URI=os.getenv(\"MONGODB_URI\")\n",
    "client = MongoClient(MONGODB_URI)\n",
    "db = client[\"chat_db\"]  # Database Name\n",
    "users_collection = db[\"users\"]  # Collection Name"
   ]
  },
  {
   "cell_type": "code",
   "execution_count": 3,
   "metadata": {},
   "outputs": [
    {
     "data": {
      "text/plain": [
       "InsertOneResult(ObjectId('67dfebeb355ea0f81815bec5'), acknowledged=True)"
      ]
     },
     "execution_count": 3,
     "metadata": {},
     "output_type": "execute_result"
    }
   ],
   "source": [
    "users_collection.insert_one({\"user_id\": 1, \"history\": [{\"query\": \"Hello\", \"response\": \"Hi\"}]})"
   ]
  },
  {
   "cell_type": "code",
   "execution_count": 4,
   "metadata": {},
   "outputs": [
    {
     "data": {
      "text/plain": [
       "{'_id': ObjectId('67dfebeb355ea0f81815bec5'),\n",
       " 'user_id': 1,\n",
       " 'history': [{'query': 'Hello', 'response': 'Hi'}]}"
      ]
     },
     "execution_count": 4,
     "metadata": {},
     "output_type": "execute_result"
    }
   ],
   "source": [
    "users_collection.find_one({\"user_id\": 1})"
   ]
  },
  {
   "cell_type": "code",
   "execution_count": 6,
   "metadata": {},
   "outputs": [
    {
     "data": {
      "text/plain": [
       "DeleteResult({'n': 0, 'electionId': ObjectId('7fffffff0000000000000005'), 'opTime': {'ts': Timestamp(1742726604, 60), 't': 5}, 'ok': 1.0, '$clusterTime': {'clusterTime': Timestamp(1742726604, 60), 'signature': {'hash': b'\\x0f\\xfb\\xf7\\x9ex\\xbd\\xa1\\xef\\x19\\x84\\xe8\\xdc9\\xa8\\x961(\\xa1\\x1d\\x03', 'keyId': 7484330617539133446}}, 'operationTime': Timestamp(1742726604, 60)}, acknowledged=True)"
      ]
     },
     "execution_count": 6,
     "metadata": {},
     "output_type": "execute_result"
    }
   ],
   "source": [
    "users_collection.delete_one({\"user_id\": 1}) "
   ]
  },
  {
   "cell_type": "code",
   "execution_count": 3,
   "metadata": {},
   "outputs": [
    {
     "name": "stdout",
     "output_type": "stream",
     "text": [
      "{'version': '8.0.6', 'gitVersion': '80f21521ad4a3dfd5613f5d649d7058c6d46277f', 'modules': ['enterprise'], 'allocator': 'tcmalloc-google', 'javascriptEngine': 'mozjs', 'sysInfo': 'deprecated', 'versionArray': [8, 0, 6, 0], 'bits': 64, 'debug': False, 'maxBsonObjectSize': 16777216, 'storageEngines': ['devnull', 'inMemory', 'queryable_wt', 'wiredTiger'], 'ok': 1.0, '$clusterTime': {'clusterTime': Timestamp(1742725443, 22), 'signature': {'hash': b'\\xcd\\xc9\\x05\\xb6I7\\x80\\xefn\\t\\xd1hz\\r\\xd1O\\xae\\xcfOd', 'keyId': 7484330617539133446}}, 'operationTime': Timestamp(1742725443, 22)}\n"
     ]
    }
   ],
   "source": [
    "import os\n",
    "from pymongo import MongoClient\n",
    "\n",
    "MONGODB_URI = os.getenv(\"MONGODB_URI\")\n",
    "try:\n",
    "    client = MongoClient(MONGODB_URI, serverSelectionTimeoutMS=5000)\n",
    "    print(client.server_info())  # Test connection\n",
    "except Exception as e:\n",
    "    print(f\"Connection error: {e}\")"
   ]
  },
  {
   "cell_type": "code",
   "execution_count": 1,
   "metadata": {},
   "outputs": [
    {
     "name": "stdout",
     "output_type": "stream",
     "text": [
      "MongoDB Connected Successfully!\n"
     ]
    }
   ],
   "source": [
    "from pymongo import MongoClient\n",
    "import certifi\n",
    "import os\n",
    "\n",
    "MONGODB_URI = os.getenv(\"MONGODB_URI\")\n",
    "client = MongoClient(MONGODB_URI, tlsCAFile=certifi.where())\n",
    "\n",
    "try:\n",
    "    client.server_info()  # Ping MongoDB\n",
    "    print(\"MongoDB Connected Successfully!\")\n",
    "except Exception as e:\n",
    "    print(f\"MongoDB Connection Error: {e}\")\n"
   ]
  },
  {
   "cell_type": "code",
   "execution_count": null,
   "metadata": {},
   "outputs": [],
   "source": []
  }
 ],
 "metadata": {
  "kernelspec": {
   "display_name": "Python 3",
   "language": "python",
   "name": "python3"
  },
  "language_info": {
   "codemirror_mode": {
    "name": "ipython",
    "version": 3
   },
   "file_extension": ".py",
   "mimetype": "text/x-python",
   "name": "python",
   "nbconvert_exporter": "python",
   "pygments_lexer": "ipython3",
   "version": "3.11.11"
  }
 },
 "nbformat": 4,
 "nbformat_minor": 2
}
